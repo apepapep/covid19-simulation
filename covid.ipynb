{
 "cells": [
  {
   "cell_type": "code",
   "execution_count": 1,
   "metadata": {},
   "outputs": [],
   "source": [
    "import random"
   ]
  },
  {
   "cell_type": "code",
   "execution_count": 2,
   "metadata": {},
   "outputs": [],
   "source": [
    "class Person:\n",
    "    def __init__(self, x, y):\n",
    "        self.x = x\n",
    "        self.y = y\n",
    "        \n",
    "    def move(self, move_prob, area_limit):\n",
    "        if random.random() <= move_prob:\n",
    "            temp = random.random()\n",
    "            if temp <= 0.25:\n",
    "                self.x += 1\n",
    "            elif temp <= 0.50:\n",
    "                self.x -= 1\n",
    "            elif temp <= 0.75:\n",
    "                self.y += 1\n",
    "            else:\n",
    "                self.y -= 1\n",
    "        \n",
    "        # Handle koordinat yang melebihi batas.\n",
    "        if self.x > area_limit['x']:\n",
    "            self.x -= area_limit['x']\n",
    "        elif self.x < 0:\n",
    "            self.x += area_limit['x']\n",
    "            \n",
    "        if self.y > area_limit['y']:\n",
    "            self.y -= area_limit['y']\n",
    "        elif self.y < 0:\n",
    "            self.y += area_limit['y']"
   ]
  },
  {
   "cell_type": "code",
   "execution_count": 3,
   "metadata": {},
   "outputs": [],
   "source": [
    "area_limit = {'x' : 20, 'y' : 20}\n",
    "move_prob = 0.8\n",
    "\n",
    "x = int(random.random() * area_limit['x'])\n",
    "y = int(random.random() * area_limit['y'])\n",
    "person = Person(x, y)"
   ]
  },
  {
   "cell_type": "code",
   "execution_count": 4,
   "metadata": {},
   "outputs": [
    {
     "name": "stdout",
     "output_type": "stream",
     "text": [
      "13 8\n",
      "12 8\n",
      "12 7\n",
      "12 7\n",
      "12 7\n",
      "12 7\n",
      "13 7\n",
      "14 7\n",
      "14 8\n",
      "14 7\n",
      "14 6\n",
      "14 5\n",
      "13 5\n",
      "13 4\n",
      "12 4\n",
      "12 3\n",
      "13 3\n",
      "13 3\n",
      "13 3\n",
      "13 2\n"
     ]
    }
   ],
   "source": [
    "for i in range(20):\n",
    "    person.move(move_prob, area_limit)\n",
    "    print(person.x, person.y)"
   ]
  }
 ],
 "metadata": {
  "kernelspec": {
   "display_name": "Python 3",
   "language": "python",
   "name": "python3"
  },
  "language_info": {
   "codemirror_mode": {
    "name": "ipython",
    "version": 3
   },
   "file_extension": ".py",
   "mimetype": "text/x-python",
   "name": "python",
   "nbconvert_exporter": "python",
   "pygments_lexer": "ipython3",
   "version": "3.7.4"
  }
 },
 "nbformat": 4,
 "nbformat_minor": 2
}
