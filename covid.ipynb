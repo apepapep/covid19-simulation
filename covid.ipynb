{
 "cells": [
  {
   "cell_type": "code",
   "execution_count": 1,
   "metadata": {},
   "outputs": [],
   "source": [
    "import random"
   ]
  },
  {
   "cell_type": "code",
   "execution_count": 2,
   "metadata": {},
   "outputs": [],
   "source": [
    "class Person:\n",
    "    def __init__(self, x, y, infected_prob, daily_info):\n",
    "        self.x = x\n",
    "        self.y = y\n",
    "        \n",
    "        # Tentukan apakah orang tersebut sehat atau\n",
    "        # terinfeksi menggunakan peluang terinfeksi.\n",
    "        temp = random.random()\n",
    "        if temp <= infected_prob:\n",
    "            self.is_healthy = False\n",
    "            self.day_infected = 1\n",
    "            daily_info['infected'][0] += 1\n",
    "        else:\n",
    "            self.is_healthy = True\n",
    "            self.day_infected = 0\n",
    "            daily_info['healthy'][0] += 1\n",
    "        \n",
    "        self.is_immuned = False\n",
    "        \n",
    "    def move(self, move_prob, area_limit):\n",
    "        if random.random() <= move_prob:\n",
    "            temp = random.random()\n",
    "            if temp <= 0.25:\n",
    "                self.x += 1\n",
    "            elif temp <= 0.50:\n",
    "                self.x -= 1\n",
    "            elif temp <= 0.75:\n",
    "                self.y += 1\n",
    "            else:\n",
    "                self.y -= 1\n",
    "        \n",
    "        # Handle koordinat yang melebihi batas.\n",
    "        if self.x > area_limit['x']:\n",
    "            self.x -= area_limit['x']\n",
    "        elif self.x < 0:\n",
    "            self.x += area_limit['x']\n",
    "            \n",
    "        if self.y > area_limit['y']:\n",
    "            self.y -= area_limit['y']\n",
    "        elif self.y < 0:\n",
    "            self.y += area_limit['y']\n",
    "        \n",
    "        if not self.is_healthy:\n",
    "            self.day_infected += 1\n",
    "            \n",
    "    def check_health(self, persons, daily_info, day, recovery_day):\n",
    "        # Cek apakah terinfeksi virus, orang tersebut terinfeksi\n",
    "        # jika satu koordinat dengan orang yang terinfeksi.\n",
    "        if (self.is_healthy and not self.is_immuned):\n",
    "            for person in persons:\n",
    "                if (not person.is_healthy\n",
    "                        and self.x == person.x \n",
    "                        and self.y == person.y):\n",
    "                    self.is_healthy = False\n",
    "                    self.day_infected += 1\n",
    "                    daily_info['healthy'][day-1] -= 1\n",
    "                    daily_info['infected'][day-1] += 1\n",
    "                    break\n",
    "\n",
    "        # Jika orang tersebut sudah terinfeksi, maka cek apakah\n",
    "        # orang tersebut sudah sembuh. Dikatakan sembuh apabila\n",
    "        # hari terinfeksi-nya sudah melewati hari penyembuhan.\n",
    "        elif (not self.is_healthy and \n",
    "              self.day_infected > recovery_day):\n",
    "            self.is_healthy = True\n",
    "            self.is_immuned = True\n",
    "            daily_info['healthy'][day-1] += 1\n",
    "            daily_info['infected'][day-1] -= 1\n",
    "            daily_info['recovered'][day-1] += 1"
   ]
  },
  {
   "cell_type": "code",
   "execution_count": 3,
   "metadata": {},
   "outputs": [],
   "source": [
    "# Inisialisasi semua variabel.\n",
    "area_limit = {'x' : 20, 'y' : 20}\n",
    "\n",
    "individu_amount = 200\n",
    "infected_prob = 0.05\n",
    "move_prob = 0.8\n",
    "recovery_day = 10\n",
    "\n",
    "daily_info = {\n",
    "    'healthy' : [0],\n",
    "    'infected' : [0],\n",
    "    'recovered' : [0]\n",
    "}"
   ]
  },
  {
   "cell_type": "code",
   "execution_count": 4,
   "metadata": {},
   "outputs": [],
   "source": [
    "# Main Program\n",
    "persons = []\n",
    "\n",
    "day = 1\n",
    "for i in range(individu_amount):\n",
    "    x = int(random.random() * area_limit['x'])\n",
    "    y = int(random.random() * area_limit['y'])\n",
    "    person = Person(x, y, infected_prob, daily_info)\n",
    "    persons.append(person)\n",
    "    \n",
    "day += 1\n",
    "while daily_info['infected'][day-2] > 0:\n",
    "    daily_info['healthy'].append(daily_info['healthy'][day-2])\n",
    "    daily_info['infected'].append(daily_info['infected'][day-2])\n",
    "    daily_info['recovered'].append(daily_info['recovered'][day-2])\n",
    "    \n",
    "    for person in persons:\n",
    "        person.move(move_prob, area_limit)\n",
    "        \n",
    "    for person in persons:\n",
    "        person.check_health(persons, daily_info, day, recovery_day)\n",
    "    \n",
    "    day += 1"
   ]
  },
  {
   "cell_type": "code",
   "execution_count": 5,
   "metadata": {},
   "outputs": [
    {
     "name": "stdout",
     "output_type": "stream",
     "text": [
      "Hari terakhir adalah hari ke-49\n"
     ]
    }
   ],
   "source": [
    "print(f'Hari terakhir adalah hari ke-{day-1}')"
   ]
  },
  {
   "cell_type": "code",
   "execution_count": 6,
   "metadata": {},
   "outputs": [
    {
     "data": {
      "text/plain": [
       "[190, 189, 184, 180, 178, 172, 167, 161, 153, 145, 147, 140, 135, 129, 128]"
      ]
     },
     "execution_count": 6,
     "metadata": {},
     "output_type": "execute_result"
    }
   ],
   "source": [
    "# Info jumlah penduduk sehat selama 15 hari\n",
    "daily_info['healthy'][:15]"
   ]
  },
  {
   "cell_type": "code",
   "execution_count": 7,
   "metadata": {},
   "outputs": [
    {
     "data": {
      "text/plain": [
       "[10, 11, 16, 20, 22, 28, 33, 39, 47, 55, 53, 60, 65, 71, 72]"
      ]
     },
     "execution_count": 7,
     "metadata": {},
     "output_type": "execute_result"
    }
   ],
   "source": [
    "# Info jumlah penduduk sakit selama 15 hari\n",
    "daily_info['infected'][:15]"
   ]
  },
  {
   "cell_type": "code",
   "execution_count": 8,
   "metadata": {},
   "outputs": [
    {
     "data": {
      "text/plain": [
       "[0, 0, 0, 0, 0, 0, 0, 0, 0, 0, 10, 11, 16, 20, 22]"
      ]
     },
     "execution_count": 8,
     "metadata": {},
     "output_type": "execute_result"
    }
   ],
   "source": [
    "# Info jumlah penduduk sembuh selama 15 hari\n",
    "daily_info['recovered'][:15]"
   ]
  }
 ],
 "metadata": {
  "kernelspec": {
   "display_name": "Python 3",
   "language": "python",
   "name": "python3"
  },
  "language_info": {
   "codemirror_mode": {
    "name": "ipython",
    "version": 3
   },
   "file_extension": ".py",
   "mimetype": "text/x-python",
   "name": "python",
   "nbconvert_exporter": "python",
   "pygments_lexer": "ipython3",
   "version": "3.7.4"
  }
 },
 "nbformat": 4,
 "nbformat_minor": 2
}
